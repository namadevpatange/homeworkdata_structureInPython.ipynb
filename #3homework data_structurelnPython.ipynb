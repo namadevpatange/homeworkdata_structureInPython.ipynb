{
 "cells": [
  {
   "cell_type": "markdown",
   "id": "2621d078",
   "metadata": {},
   "source": [
    "# Homework-3\n",
    "\n",
    "l = [3,4,5,6,7 , [23,456,67,8,78,78] , [345,56,87,8,98,9] , (234,6657,6) , {\"key1\" :\"sudh\" , 234:[23,45,656]}]\n",
    "1 . Try to reverse a list \n",
    "2. try to access 234 out of this list \n",
    "3 . try to access 456 \n",
    "4 . Try to extract only a list collection form list l \n",
    "5 . Try to extract \"sudh\"\n",
    "6 . Try to list all the key in dict element avaible in list \n",
    "7 . Try to extract all the value element form dict available in list"
   ]
  },
  {
   "cell_type": "markdown",
   "id": "eadf1fbd",
   "metadata": {},
   "source": [
    "# 1 . Try to reverse a list "
   ]
  },
  {
   "cell_type": "code",
   "execution_count": 8,
   "id": "42b68a30",
   "metadata": {},
   "outputs": [
    {
     "name": "stdout",
     "output_type": "stream",
     "text": [
      "[{'key1': 'sudh', 234: [23, 45, 656]}, (234, 6657, 6), [345, 56, 87, 8, 98, 9], [23, 456, 67, 8, 78, 78], 7, 6, 5, 4, 3]\n"
     ]
    }
   ],
   "source": [
    "l = [3, 4, 5, 6, 7, [23, 456, 67, 8, 78, 78], [345, 56, 87, 8, 98, 9], (234, 6657, 6), {\"key1\": \"sudh\", 234: [23, 45, 656]}]\n",
    "reversed_l = l[::-1]\n",
    "print(reversed_l)\n"
   ]
  },
  {
   "cell_type": "markdown",
   "id": "6afcd7f3",
   "metadata": {},
   "source": [
    "# 2. try to access 234 out of this list "
   ]
  },
  {
   "cell_type": "code",
   "execution_count": 9,
   "id": "0b7e98db",
   "metadata": {},
   "outputs": [
    {
     "name": "stdout",
     "output_type": "stream",
     "text": [
      "{'key1': 'sudh', 234: [23, 45, 656]}\n"
     ]
    }
   ],
   "source": [
    "element_234 = l[8]\n",
    "print(element_234)\n"
   ]
  },
  {
   "cell_type": "markdown",
   "id": "a5edb8de",
   "metadata": {},
   "source": [
    "# 3 . try to access 456"
   ]
  },
  {
   "cell_type": "code",
   "execution_count": 7,
   "id": "b7d64051",
   "metadata": {},
   "outputs": [
    {
     "name": "stdout",
     "output_type": "stream",
     "text": [
      "[[23, 456, 67, 8, 78, 78], [345, 56, 87, 8, 98, 9]]\n"
     ]
    }
   ],
   "source": [
    "lists_only = [item for item in l if isinstance(item, list)]\n",
    "print(lists_only)\n"
   ]
  },
  {
   "cell_type": "markdown",
   "id": "82f4245b",
   "metadata": {},
   "source": [
    "# 4 . Try to extract only a list collection form list l "
   ]
  },
  {
   "cell_type": "code",
   "execution_count": 10,
   "id": "5dae65bd",
   "metadata": {},
   "outputs": [
    {
     "name": "stdout",
     "output_type": "stream",
     "text": [
      "[[23, 456, 67, 8, 78, 78], [345, 56, 87, 8, 98, 9]]\n"
     ]
    }
   ],
   "source": [
    "lists_only = [item for item in l if isinstance(item, list)]\n",
    "print(lists_only)\n"
   ]
  },
  {
   "cell_type": "markdown",
   "id": "4d9b3dfa",
   "metadata": {},
   "source": [
    "# 5 . Try to extract \"sudh\""
   ]
  },
  {
   "cell_type": "code",
   "execution_count": 14,
   "id": "292ac533",
   "metadata": {},
   "outputs": [
    {
     "name": "stdout",
     "output_type": "stream",
     "text": [
      "sudh\n"
     ]
    }
   ],
   "source": [
    "value_at_234 = l[-1][\"key1\"]\n",
    "print(value_at_234)  # Output: sudh\n"
   ]
  },
  {
   "cell_type": "markdown",
   "id": "35494c95",
   "metadata": {},
   "source": [
    "# 6 . Try to list all the key in dict element avaible in list "
   ]
  },
  {
   "cell_type": "code",
   "execution_count": 15,
   "id": "f44d013a",
   "metadata": {},
   "outputs": [
    {
     "name": "stdout",
     "output_type": "stream",
     "text": [
      "['key1', 234]\n"
     ]
    }
   ],
   "source": [
    "keys_in_dict = list(l[-1].keys())\n",
    "print(keys_in_dict)  # Output: ['key1', 234]\n"
   ]
  },
  {
   "cell_type": "markdown",
   "id": "5a8a282b",
   "metadata": {},
   "source": [
    "# 7.Try to extract all the value element form dict available in list"
   ]
  },
  {
   "cell_type": "code",
   "execution_count": 16,
   "id": "2da3713f",
   "metadata": {},
   "outputs": [
    {
     "name": "stdout",
     "output_type": "stream",
     "text": [
      "['sudh', [23, 45, 656]]\n"
     ]
    }
   ],
   "source": [
    "values_in_dict = list(l[-1].values())\n",
    "print(values_in_dict)  # Output: ['sudh', [23, 45, 656]]\n"
   ]
  },
  {
   "cell_type": "code",
   "execution_count": null,
   "id": "0442aba0",
   "metadata": {},
   "outputs": [],
   "source": []
  }
 ],
 "metadata": {
  "kernelspec": {
   "display_name": "Python 3 (ipykernel)",
   "language": "python",
   "name": "python3"
  },
  "language_info": {
   "codemirror_mode": {
    "name": "ipython",
    "version": 3
   },
   "file_extension": ".py",
   "mimetype": "text/x-python",
   "name": "python",
   "nbconvert_exporter": "python",
   "pygments_lexer": "ipython3",
   "version": "3.11.5"
  }
 },
 "nbformat": 4,
 "nbformat_minor": 5
}
