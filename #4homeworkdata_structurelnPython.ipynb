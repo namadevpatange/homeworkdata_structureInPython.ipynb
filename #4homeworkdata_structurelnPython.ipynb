{
 "cells": [
  {
   "cell_type": "markdown",
   "id": "2518af05",
   "metadata": {},
   "source": [
    "# Homework-4\n",
    "# Marks: User input\n",
    "#     GRE cut off:---> 600\n",
    "#     TOFEL Cut off:---> 400\n",
    "#         Try something else:---> 400-\n",
    "        \n",
    "#     600+ ---> Congratulations you have cleared GRE and TOFEL.\n",
    "#     600- ---> Sorry You couldn't clear GRE. Work Hard.\n",
    "#     400+ ----> Cleared TOFEL\n",
    "#     400- ----? Try something else\n"
   ]
  },
  {
   "cell_type": "code",
   "execution_count": null,
   "id": "09097895",
   "metadata": {},
   "outputs": [],
   "source": [
    "def gre_toefl_assessment():\n",
    "  \"\"\"Prompts the user for GRE and TOEFL scores, provides clear feedback based on cut-offs,\n",
    "  and offers encouraging or alternative suggestions.\n",
    "  \"\"\"\n",
    "\n",
    "  gre_cut_off = 600\n",
    "  toefl_cut_off = 400\n",
    "\n",
    "  try:\n",
    "    gre_score = int(input(\"Enter your GRE score (integer): \"))\n",
    "    toefl_score = int(input(\"Enter your TOEFL score (integer): \"))\n",
    "  except ValueError:\n",
    "    print(\"Invalid input. Please enter integers for GRE and TOEFL scores.\")\n",
    "    return\n",
    "\n",
    "  # Clear and concise congratulations message\n",
    "  if gre_score >= gre_cut_off and toefl_score >= toefl_cut_off:\n",
    "    print(\"Congratulations! You have cleared both GRE and TOEFL.\")\n",
    "\n",
    "  # Specific feedback messages for each combination of scores\n",
    "  elif gre_score < gre_cut_off and toefl_score >= toefl_cut_off:\n",
    "    print(\"You have cleared TOEFL. However, you need to work harder on your GRE score to reach the cut-off of\", gre_cut_off)\n",
    "  elif gre_score >= gre_cut_off and toefl_score < toefl_cut_off:\n",
    "    print(\"You have cleared GRE. However, you need to improve your TOEFL score to reach the cut-off of\", toefl_cut_off)\n",
    "  else:\n",
    "    print(\"Based on your scores, you haven't cleared either GRE or TOEFL. Consider these options:\")\n",
    "\n",
    "    # Encouraging alternative suggestions\n",
    "    print(\"* Retake the exams and strive to improve your scores.\")\n",
    "    print(\"* Explore alternative programs or entrance exams that might better align with your skills and goals.\")\n",
    "    print(\"* Seek professional guidance to develop effective study strategies.\")\n",
    "\n",
    "if __name__ == \"__main__\":\n",
    "  gre_toefl_assessment()\n"
   ]
  }
 ],
 "metadata": {
  "kernelspec": {
   "display_name": "Python 3 (ipykernel)",
   "language": "python",
   "name": "python3"
  },
  "language_info": {
   "codemirror_mode": {
    "name": "ipython",
    "version": 3
   },
   "file_extension": ".py",
   "mimetype": "text/x-python",
   "name": "python",
   "nbconvert_exporter": "python",
   "pygments_lexer": "ipython3",
   "version": "3.11.5"
  }
 },
 "nbformat": 4,
 "nbformat_minor": 5
}
