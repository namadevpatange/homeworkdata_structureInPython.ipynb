{
 "cells": [
  {
   "cell_type": "code",
   "execution_count": null,
   "id": "2046d608",
   "metadata": {},
   "outputs": [],
   "source": [
    "l = [3,4,5,6,7 , [23,456,67,8,78,78] , [345,56,87,8,98,9] , (234,6657,6) , {\"key1\" :\"sudh\" , 234:[23,45,656]}]\n",
    "1 . Try to reverse a list \n",
    "2. try to access 234 out of this list \n",
    "3 . try to access 456 \n",
    "4 . Try to extract only a list collection form list l \n",
    "5 . Try to extract \"sudh\"\n",
    "6 . Try to list all the key in dict element avaible in list \n",
    "7 . Try to extract all the value element form dict available in list \n"
   ]
  },
  {
   "cell_type": "markdown",
   "id": "6ea57f9a",
   "metadata": {},
   "source": [
    "# 1 . Try to reverse a list "
   ]
  },
  {
   "cell_type": "code",
   "execution_count": 15,
   "id": "4ea501c7",
   "metadata": {},
   "outputs": [
    {
     "name": "stdout",
     "output_type": "stream",
     "text": [
      "[3, 4, 5, 6, 7, [23, 456, 67, 8, 78, 78], [345, 56, 87, 8, 98, 9], (234, 6657, 6), {'key1': 'sudh', 234: [23, 45, 656]}]\n"
     ]
    }
   ],
   "source": [
    "l.reverse()\n",
    "print(l)  # Output: [(23, 45, 656), {\"key1\": \"sudh\"}, (234, 6657, 6), [345, 56, 87, 8, 98, 9], [23, 456, 67, 8, 78, 78], 7, 6, 5, 4, 3]\n"
   ]
  },
  {
   "cell_type": "markdown",
   "id": "6aba9415",
   "metadata": {},
   "source": [
    "# 2. try to access  234 out of this list"
   ]
  },
  {
   "cell_type": "code",
   "execution_count": 20,
   "id": "ac123a91",
   "metadata": {},
   "outputs": [
    {
     "name": "stdout",
     "output_type": "stream",
     "text": [
      "(234, 6657, 6)\n"
     ]
    }
   ],
   "source": [
    "print(l[7])\n"
   ]
  },
  {
   "cell_type": "markdown",
   "id": "9cf8451f",
   "metadata": {},
   "source": [
    "# 3. try to access 456 "
   ]
  },
  {
   "cell_type": "code",
   "execution_count": 21,
   "id": "b4519a89",
   "metadata": {},
   "outputs": [
    {
     "name": "stdout",
     "output_type": "stream",
     "text": [
      "456\n"
     ]
    }
   ],
   "source": [
    "print(l[5][1])\n"
   ]
  },
  {
   "cell_type": "markdown",
   "id": "0d73ba3f",
   "metadata": {},
   "source": [
    "# 4.Try to extract only a list collection form list l "
   ]
  },
  {
   "cell_type": "code",
   "execution_count": 23,
   "id": "6d8dd0b6",
   "metadata": {},
   "outputs": [
    {
     "name": "stdout",
     "output_type": "stream",
     "text": [
      "[[23, 456, 67, 8, 78, 78], [345, 56, 87, 8, 98, 9]]\n"
     ]
    }
   ],
   "source": [
    "lists_only = [item for item in l if isinstance(item, list)]\n",
    "print(lists_only)\n"
   ]
  },
  {
   "cell_type": "markdown",
   "id": "d3b4d68c",
   "metadata": {},
   "source": [
    "# 5.Try to extract \"sudh\""
   ]
  },
  {
   "cell_type": "code",
   "execution_count": 24,
   "id": "7213a51c",
   "metadata": {},
   "outputs": [
    {
     "name": "stdout",
     "output_type": "stream",
     "text": [
      "sudh\n"
     ]
    }
   ],
   "source": [
    "sudh_value = [item[\"key1\"] for item in l if isinstance(item, dict)][0]\n",
    "print(sudh_value)\n"
   ]
  },
  {
   "cell_type": "markdown",
   "id": "7cc31c95",
   "metadata": {},
   "source": [
    "# 6. Try to list all the key in dict element avaible in list "
   ]
  },
  {
   "cell_type": "code",
   "execution_count": 25,
   "id": "8edb9fbf",
   "metadata": {},
   "outputs": [
    {
     "name": "stdout",
     "output_type": "stream",
     "text": [
      "['sudh', [23, 45, 656]]\n"
     ]
    }
   ],
   "source": [
    "values = []\n",
    "for item in l:\n",
    "    if isinstance(item, dict):\n",
    "        values.extend(item.values())\n",
    "print(values)\n"
   ]
  },
  {
   "cell_type": "markdown",
   "id": "91569df4",
   "metadata": {},
   "source": [
    "# 7.Try to extract all the value element form dict available in list \n"
   ]
  },
  {
   "cell_type": "code",
   "execution_count": 26,
   "id": "4bd95627",
   "metadata": {},
   "outputs": [
    {
     "name": "stdout",
     "output_type": "stream",
     "text": [
      "['sudh', [23, 45, 656]]\n"
     ]
    }
   ],
   "source": [
    "values = []\n",
    "for item in l:\n",
    "    if isinstance(item, dict):\n",
    "        values.extend(item.values())\n",
    "print(values)\n"
   ]
  },
  {
   "cell_type": "code",
   "execution_count": null,
   "id": "96c4cac0",
   "metadata": {},
   "outputs": [],
   "source": []
  }
 ],
 "metadata": {
  "kernelspec": {
   "display_name": "Python 3 (ipykernel)",
   "language": "python",
   "name": "python3"
  },
  "language_info": {
   "codemirror_mode": {
    "name": "ipython",
    "version": 3
   },
   "file_extension": ".py",
   "mimetype": "text/x-python",
   "name": "python",
   "nbconvert_exporter": "python",
   "pygments_lexer": "ipython3",
   "version": "3.11.5"
  }
 },
 "nbformat": 4,
 "nbformat_minor": 5
}
