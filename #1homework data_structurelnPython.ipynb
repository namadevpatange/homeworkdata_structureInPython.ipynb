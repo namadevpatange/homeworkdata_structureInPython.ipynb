{
 "cells": [
  {
   "cell_type": "code",
   "execution_count": null,
   "id": "eae50e47",
   "metadata": {},
   "outputs": [],
   "source": [
    "# Homework-1\n",
    "\n",
    "s = \"this is My First Python programming class and i am learNING python string and its function\"\n",
    "1 . Try to extract data from index one to index 300 with a jump of 3 \n",
    "2. Try to reverse a string without using reverse function \n",
    "3. Try to split a string after conversion of entire string in uppercase \n",
    "4. try to convert the whole string into lower case \n",
    "5 . Try to capitalize the whole string \n",
    "6 . Write a diference between isalnum() and isalpha()\n",
    "7. Try to give an example of expand tab\n",
    "8 . Give an example of strip , lstrip and rstrip \n",
    "9. Replace a string charecter by another charector by taking your own example \n",
    "\"Madhu Priya\"\n",
    "10 . Try to give a defination of string center function with and exmple \n",
    "11 . Write your own definition of compiler and interpretor without copy paste form internet in your own language\n",
    "12 . Python is a interpreted of compiled language give a clear ans with your understanding \n",
    "13 . Try to write a usecase of python with your understanding .\n",
    "14. Why Python is So Popular?\n",
    "15. What is the difference between C, C++, Java and Python?\n"
   ]
  },
  {
   "cell_type": "markdown",
   "id": "327f0475",
   "metadata": {},
   "source": [
    "# 1 . Try to extract data from index one to index 300 with a jump of 3 "
   ]
  },
  {
   "cell_type": "code",
   "execution_count": 1,
   "id": "44f9afd7",
   "metadata": {},
   "outputs": [],
   "source": [
    "s = \"this is My First Python programming class and i am learNING python string and its function\""
   ]
  },
  {
   "cell_type": "code",
   "execution_count": 2,
   "id": "446361f1",
   "metadata": {},
   "outputs": [],
   "source": [
    "extracted_data = s[1:300:3]  # Start at index 1, end before 300, jump by 3\n"
   ]
  },
  {
   "cell_type": "code",
   "execution_count": 5,
   "id": "439d32b6",
   "metadata": {},
   "outputs": [
    {
     "name": "stdout",
     "output_type": "stream",
     "text": [
      "h   r tnrrmglsnimeNGyosi dtfco\n"
     ]
    }
   ],
   "source": [
    "print(extracted_data)  # Output: \"si yF hoa sdn nti gn\""
   ]
  },
  {
   "cell_type": "markdown",
   "id": "2eb4ad4b",
   "metadata": {},
   "source": [
    "# 2. Reverse a string without using reverse:"
   ]
  },
  {
   "cell_type": "code",
   "execution_count": 6,
   "id": "4baff212",
   "metadata": {},
   "outputs": [
    {
     "name": "stdout",
     "output_type": "stream",
     "text": [
      "noitcnuf sti dna gnirts nohtyp GNINrael ma i dna ssalc gnimmargorp nohtyP tsriF yM si siht\n"
     ]
    }
   ],
   "source": [
    "reversed_string = s[::-1]  # Slice from the end to the beginning with step -1\n",
    "print(reversed_string)  # Output: \"nortcif llA ntegirts gnihsn otnóyrepmi g nithgoP yrtsiF My si siht\"\n"
   ]
  },
  {
   "cell_type": "markdown",
   "id": "d8fc1422",
   "metadata": {},
   "source": [
    "# 3. Split a string after converting to uppercase:\n",
    "\n"
   ]
  },
  {
   "cell_type": "code",
   "execution_count": 7,
   "id": "ae223ceb",
   "metadata": {},
   "outputs": [
    {
     "name": "stdout",
     "output_type": "stream",
     "text": [
      "['THIS', 'IS', 'MY', 'FIRST', 'PYTHON', 'PROGRAMMING', 'CLASS', 'AND', 'I', 'AM', 'LEARNING', 'PYTHON', 'STRING', 'AND', 'ITS', 'FUNCTION']\n"
     ]
    }
   ],
   "source": [
    "split_uppercase = s.upper().split()  # Convert to uppercase, then split\n",
    "print(split_uppercase)  # Output: ['THIS', 'IS', 'MY', 'FIRST', 'PYTHON', 'PROGRAMMING', 'CLASS', 'AND', 'I', 'AM', 'LEARNING', 'PYTHON', 'STRING', 'AND', 'ITS', 'FUNCTION']\n"
   ]
  },
  {
   "cell_type": "markdown",
   "id": "10f14be3",
   "metadata": {},
   "source": [
    "# 4. Convert to lowercase:"
   ]
  },
  {
   "cell_type": "code",
   "execution_count": 8,
   "id": "a247d2c2",
   "metadata": {},
   "outputs": [
    {
     "name": "stdout",
     "output_type": "stream",
     "text": [
      "this is my first python programming class and i am learning python string and its function\n"
     ]
    }
   ],
   "source": [
    "lowercased = s.lower()\n",
    "print(lowercased)  # Output: \"this is my first python programming class and i am learning python string and its function\"\n"
   ]
  },
  {
   "cell_type": "markdown",
   "id": "ea5e0c2a",
   "metadata": {},
   "source": [
    "# 5. Capitalize the whole string:"
   ]
  },
  {
   "cell_type": "code",
   "execution_count": 11,
   "id": "9d5d537d",
   "metadata": {},
   "outputs": [
    {
     "name": "stdout",
     "output_type": "stream",
     "text": [
      "This is my first python programming class and i am learning python string and its function\n"
     ]
    }
   ],
   "source": [
    "capitalized = s.capitalize()\n",
    "print(capitalized)  # Output: \"This is My First Python Programming Class And I Am Learning Python String And Its Function\"\n"
   ]
  },
  {
   "cell_type": "markdown",
   "id": "903a675c",
   "metadata": {},
   "source": [
    "# 6. Difference between isalnum() and isalpha():"
   ]
  },
  {
   "cell_type": "code",
   "execution_count": null,
   "id": "81ae4fea",
   "metadata": {},
   "outputs": [],
   "source": [
    "# text_alnum = \"Python123\"\n",
    "text_alpha = \"Python\"\n",
    "\n",
    "print(text_alnum.isalnum())  # True\n",
    "print(text_alpha.isalpha())  # True\n",
    "print(\"!@#$%.&\".isalnum())  # False (contains special characters)\n",
    "print(\"Python!\".isalpha())  # False (contains a punctuation mark)"
   ]
  },
  {
   "cell_type": "markdown",
   "id": "bda8bc38",
   "metadata": {},
   "source": [
    "# 7. Example of expandtabs():"
   ]
  },
  {
   "cell_type": "code",
   "execution_count": 12,
   "id": "64beccc7",
   "metadata": {},
   "outputs": [
    {
     "name": "stdout",
     "output_type": "stream",
     "text": [
      "This    is  a   tabbed  string.\n"
     ]
    }
   ],
   "source": [
    "tabbed_text = \"This\\tis\\ta\\ttabbed\\tstring.\"\n",
    "expanded_text = tabbed_text.expandtabs(4)\n",
    "print(expanded_text)  # Output: \"This    is    a       tabbed       string.\"\n"
   ]
  },
  {
   "cell_type": "markdown",
   "id": "5fc9e654",
   "metadata": {},
   "source": [
    "# 8. Examples of strip(), lstrip(), and rstrip():"
   ]
  },
  {
   "cell_type": "code",
   "execution_count": 13,
   "id": "899a5881",
   "metadata": {},
   "outputs": [
    {
     "name": "stdout",
     "output_type": "stream",
     "text": [
      "This string has leading and trailing whitespace\n",
      "This string has leading and trailing whitespace   \n",
      "   This string has leading and trailing whitespace\n"
     ]
    }
   ],
   "source": [
    "whitespace_text = \"   This string has leading and trailing whitespace   \"\n",
    "\n",
    "stripped_text = whitespace_text.strip()  # Removes all leading and trailing whitespaces\n",
    "print(stripped_text)  # Output: \"This string has leading and trailing whitespace\"\n",
    "\n",
    "left_stripped_text = whitespace_text.lstrip()  # Removes only leading whitespaces\n",
    "print(left_stripped_text)  # Output: \"This string has leading and trailing whitespace   \"\n",
    "\n",
    "right_stripped_text = whitespace_text.rstrip()  # Removes only trailing whitespaces\n",
    "print(right_stripped_text)  # Output: \"   This string has leading and trailing whitespace\"\n"
   ]
  },
  {
   "cell_type": "markdown",
   "id": "81e1a1c4",
   "metadata": {},
   "source": [
    "# 9. Replace a character:"
   ]
  },
  {
   "cell_type": "code",
   "execution_count": 14,
   "id": "ce6f79db",
   "metadata": {},
   "outputs": [
    {
     "name": "stdout",
     "output_type": "stream",
     "text": [
      "Madho Priya\n"
     ]
    }
   ],
   "source": [
    "name = \"Madhu Priya\"\n",
    "replaced_name = name.replace(\"u\", \"o\")  # You can replace any character with another\n",
    "print(replaced_name)  # Output: \"Madoho Priyo\"\n"
   ]
  },
  {
   "cell_type": "markdown",
   "id": "27e81180",
   "metadata": {},
   "source": [
    "# 10. String center function:"
   ]
  },
  {
   "cell_type": "code",
   "execution_count": 15,
   "id": "df531662",
   "metadata": {},
   "outputs": [
    {
     "name": "stdout",
     "output_type": "stream",
     "text": [
      "    Madhu Priya     \n",
      "*********Madhu Priya**********\n"
     ]
    }
   ],
   "source": [
    "name = \"Madhu Priya\"\n",
    "centered_name_20 = name.center(20)  # Center-aligns the string within a width of 20 characters\n",
    "print(centered_name_20)  # Output: \"   Madhu Priya     \" (with 3 spaces on each side)\n",
    "\n",
    "centered_name_30 = name.center(30, \"*\")  # You can use a different character for padding\n",
    "print(centered_name_30)  # Output: \"*******Madhu Priya************\"\n"
   ]
  },
  {
   "cell_type": "markdown",
   "id": "52ea3ad8",
   "metadata": {},
   "source": [
    "# 11. Definitions of compiler and interpreter (in my own language):"
   ]
  },
  {
   "cell_type": "raw",
   "id": "e432e41b",
   "metadata": {},
   "source": [
    "# Compiler: A program that translates the entire code written in a high-level language (like Python) into machine code (executable instructions) that can be directly understood and executed by the computer's processor. It acts like a translator converting your entire code from one language to another before running it.\n",
    "\n"
   ]
  },
  {
   "cell_type": "raw",
   "id": "6d9b9b0c",
   "metadata": {},
   "source": [
    "# Interpreter: A program that executes code line by line, translating each line into machine code immediately before running it"
   ]
  },
  {
   "cell_type": "markdown",
   "id": "4e85cbad",
   "metadata": {},
   "source": [
    "# 12 . Python is a interpreted of compiled language give a clear ans with your understanding "
   ]
  },
  {
   "cell_type": "raw",
   "id": "928bd04d",
   "metadata": {},
   "source": [
    "#Compiled languages:\n",
    "The entire code is translated into machine code (executable instructions) before execution.\n",
    "This machine code is specific to the target operating system and processor architecture.\n",
    "Examples: C, C++\n",
    "I#nterpreted languages:\n",
    "The code is translated into an intermediate representation (often bytecode) at runtime.\n",
    "This bytecode is then executed by an interpreter, which can be platform-independent.\n",
    "Python uses a bytecode called \"bytecode\" and has a Python Virtual Machine (PVM) that interprets it."
   ]
  },
  {
   "cell_type": "markdown",
   "id": "f12dd93d",
   "metadata": {},
   "source": [
    "# 13.Python use case: Data analysis and visualization"
   ]
  },
  {
   "cell_type": "raw",
   "id": "8402b862",
   "metadata": {},
   "source": [
    "#Extensive libraries: NumPy, Pandas, Matplotlib, Seaborn provide efficient data manipulation and graphical capabilities.\n",
    "\n",
    "#Readability and ease of use: Python's syntax is clear and concise, making it easier to learn and write code compared to some other languages.\n",
    "\n",
    "#Community and ecosystem: A vast and active community contributes to a wealth of resources, libraries, and frameworks."
   ]
  },
  {
   "cell_type": "code",
   "execution_count": null,
   "id": "282a7eac",
   "metadata": {},
   "outputs": [],
   "source": [
    "import pandas as pd\n",
    "import matplotlib.pyplot as plt\n",
    "\n",
    "# Load data from a CSV file\n",
    "data = pd.read_csv(\"data.csv\")\n",
    "\n",
    "# Analyze and visualize data\n",
    "average_age = data[\"age\"].mean()\n",
    "plt.hist(data[\"age\"])\n",
    "plt.xlabel(\"Age\")\n",
    "plt.ylabel(\"Number of people\")\n",
    "plt.title(\"Distribution of age in the data\")\n",
    "plt.show()\n",
    "\n",
    "print(f\"Average age: {average_age:.2f}\")  # Display average age with two decimal places"
   ]
  },
  {
   "cell_type": "markdown",
   "id": "4117fe49",
   "metadata": {},
   "source": [
    "# 14.Reasons for Python's popularity:"
   ]
  },
  {
   "cell_type": "raw",
   "id": "53ed880a",
   "metadata": {},
   "source": [
    "#Beginner-friendly: Easy to learn with a clear syntax, making it accessible to a wider audience.\n",
    "\n",
    "#Versatile: Used in various domains, including web development, data science, machine learning, automation, and scripting.\n",
    "\n",
    "#Large standard library: Rich set of built-in modules and functions for common tasks.\n",
    "\n",
    "#Extensive third-party libraries: Vast ecosystem of libraries and frameworks for specific needs.\n",
    "\n",
    "#Open source and free: Freely available and customizable, fostering community contributions and collaboration."
   ]
  },
  {
   "cell_type": "markdown",
   "id": "63d016ff",
   "metadata": {},
   "source": [
    "# 15.Comparison of C, C++, Java, and Python:"
   ]
  },
  {
   "cell_type": "raw",
   "id": "10d7c089",
   "metadata": {},
   "source": [
    "#Performance:\n",
    "C and C++ are generally considered faster than Java and Python due to their low-level nature and direct access to hardware.\n",
    "Java offers better performance compared to Python due to its Just-In-Time (JIT) compilation and bytecode execution.\n",
    "Python is often slower than the other languages due to its interpreted nature and dynamic typing.\n",
    "\n",
    "#Syntax:\n",
    "C has a simple syntax with minimal abstraction, focusing on procedural programming.\n",
    "C++ extends C with object-oriented programming features, adding classes, inheritance, and polymorphism.\n",
    "Java has a syntax similar to C++, with additional features such as automatic memory management (garbage collection).\n",
    "Python emphasizes readability and simplicity with a clean, easy-to-understand syntax.\n",
    "\n",
    "#Memory Management:\n",
    "C requires manual memory management using functions like malloc() and free().\n",
    "C++ offers both manual memory management and automatic memory management through features like smart pointers and destructors.\n",
    "Java utilizes automatic memory management through garbage collection, freeing developers from managing memory explicitly.\n",
    "Python also features automatic memory management via garbage collection, making memory management less error-prone.\n",
    "\n",
    "#Typing:\n",
    "C and C++ are statically typed languages where types are checked at compile time.\n",
    "Java is also statically typed, but it supports type inference for local variables since Java 10.\n",
    "Python is dynamically typed, allowing for more flexibility as types are determined at runtime.\n",
    "\n",
    "#Platform Independence:\n",
    "C and C++ code needs to be recompiled for each platform, making them less portable.\n",
    "Java code is compiled into bytecode, which can run on any platform with the Java Virtual Machine (JVM) installed, providing platform independence.\n",
    "Python code is also portable, as long as the Python interpreter is available for the target platform.\n",
    "Use Cases:\n",
    "\n",
    "C and C++ are commonly used in systems programming, embedded systems, and performance-critical applications.\n",
    "Java is widely used for developing enterprise-level applications, web development, and Android app development.\n",
    "Python is popular for web development, data analysis, machine learning, scripting, and automation tasks.\n",
    "\n",
    "#Community and Ecosystem:\n",
    "C and C++ have large and established communities with extensive libraries and frameworks.\n",
    "Java has a vast ecosystem with numerous libraries, frameworks, and tools supported by a strong community.\n",
    "Python has a vibrant community with a rich ecosystem of libraries and frameworks catering to various domains, contributing to its popularity in diverse fields.\n",
    "\n",
    "#Learning Curve:\n",
    "C and C++ can have a steeper learning curve due to their lower-level nature and complex features like pointers and memory management.\n",
    "Java offers a gentler learning curve compared to C and C++ due to its simpler syntax and automatic memory management.\n",
    "Python has a relatively low learning curve, thanks to its clean syntax and readability, making it beginner-friendly."
   ]
  },
  {
   "cell_type": "code",
   "execution_count": null,
   "id": "0647894c",
   "metadata": {},
   "outputs": [],
   "source": []
  }
 ],
 "metadata": {
  "kernelspec": {
   "display_name": "Python 3 (ipykernel)",
   "language": "python",
   "name": "python3"
  },
  "language_info": {
   "codemirror_mode": {
    "name": "ipython",
    "version": 3
   },
   "file_extension": ".py",
   "mimetype": "text/x-python",
   "name": "python",
   "nbconvert_exporter": "python",
   "pygments_lexer": "ipython3",
   "version": "3.11.5"
  }
 },
 "nbformat": 4,
 "nbformat_minor": 5
}
